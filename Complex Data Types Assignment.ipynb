{
 "cells": [
  {
   "cell_type": "code",
   "execution_count": 5,
   "id": "43c61910",
   "metadata": {},
   "outputs": [
    {
     "name": "stdout",
     "output_type": "stream",
     "text": [
      "Assignment 3\n"
     ]
    }
   ],
   "source": [
    "\"\"\"BMI 6018 Fall 2022 \n",
    "\n",
    "Instructions: For this assignment, please return all answers as variables in your\n",
    ".py file. You will quickly note that you will need to find answers outside the\n",
    "class lectures. This is not an accident! You will need to become professionally\n",
    "comfortable with looking things up via the python docs and google. \n",
    "\n",
    "Ensure that all variables are labelled according to the example. IE the answer\n",
    "to problem 1 part c should be labelled one_c. While all questions are answerable\n",
    "with a single line of code, you are free to use helper variables so long as they\n",
    "are helpfully/informatively named. \n",
    "\n",
    "I should be able to open your .py file and run it without errors. I will **not** be \n",
    "debugging your code for you. If your file does not run, it will **not** be graded. \n",
    "If you are unsure if your file will run, open up a chpc terminal and test it there.\n",
    "\n",
    "For this assignment, please only use base python files types. That is: there \n",
    "should be no import calls in your file save my use of sys at the end.\n",
    "\n",
    "Example Problem\n",
    "\n",
    "0.a Create a list of strings\n",
    "0.b Using a str method, capitalize one of the elements in the list using a slice\n",
    "0.c Coerce one character of the list to display as a hex\n",
    "\n",
    "zero_a = ['first','second','third','fourth','fifth']\n",
    "zero_b = zero_a[1].upper()\n",
    "zero_c = hex(ord(zero_a[1][1]))\n",
    "\n",
    "#Problem 1: Lists, Sets and Coersion\n",
    "\n",
    "1.a Create a list of integers no fewer than 10 items from 0 to 9.\n",
    " .b Add 3 to the 5th indexed element\n",
    " .c Coerce all elements in the list to floats using list comprehension\n",
    " .d Coerce the list to a set\n",
    " .e Using a method, append int 10 to the set\n",
    " .f Using a method, pop an item from the set\n",
    " .g Using a length counting function, count the number of items in the set\n",
    " .h Check if the number of items in the set is the same as the \n",
    "    number of items in the list\n",
    " .i Coerce the set to a list and use the \"+\" operator combine the list to the list from 1.a\n",
    " .j Coerce 1.i to a set\n",
    " .k Count the number of elements in the 1.j\n",
    "\n",
    "\n",
    "\n",
    "Problem 2: Dictionary woes\n",
    "\n",
    "2.a Combine the three sample dictionaries (given below) into a nested dictionary (nested in programming means joined), named \n",
    "    two_a, ensure the key names are the same as the dictionary names.\n",
    " .b Using keys, retrieve the Dango's name from 2.a\n",
    " .c Using keys, update the value of Mochi's year to 2018. This should not be a variable\n",
    "    and should simply update 2.a.\n",
    " .d Manually create a dictionary that has a single level and contains each patient\n",
    "    as the key and the year as the value. Set Mochi's year to 2019.'\n",
    " .e Coerce the keys of 2.d into a list\n",
    " .f Coerce the values of 2.d into a list\n",
    " .g Use the zip function to combine 2.e and 2.f into a dictionary again\n",
    "\n",
    "\n",
    "two_patient_dictionary_kinoko = {\n",
    "  \"name\" : \"Kinoko\",\n",
    "  \"year\" : 2021\n",
    "}\n",
    "two_patient_dictionary_dango = {\n",
    "  \"name\" : \"Dango\",\n",
    "  \"year\" : 2019\n",
    "}\n",
    "two_patient_dictionary_mochi  = {\n",
    "  \"name\" : \"Mochi\",\n",
    "  \"year\" : 2020\n",
    "}\n",
    "\n",
    "\n",
    "\n",
    "Problem 3: Set combinations\n",
    "\n",
    "Given the predefined sets below and using set methods\n",
    "3.a Is set E a subset of set A\n",
    " .b Is set E a strict subset of set A\n",
    " .c Create a set that is the intersection of set A and set B\n",
    " .d Create a set that is the union of sets C, D and E\n",
    " .e add 9 to the set\n",
    " .f Using == compare this set to the list in one_a\n",
    " .g Explain why they are not the same. What would you need to change if you\n",
    "    wanted this to be True?\n",
    " \n",
    "\n",
    "three_setA = {1,2,3,4,5}\n",
    "three_setB = {2,3,4,5,6}\n",
    "three_setC = {3,5,7,9}\n",
    "three_setD = {2,4,6,8}\n",
    "three_setE = {1,2,3,4}\n",
    "\n",
    "\n",
    "\n",
    "Problem 4: Changing variable types\n",
    "\n",
    "For each step you will modify a variable, then append the type of the variable\n",
    "to a list. Do not recreate the list variable, it should be a running list of \n",
    "types.\n",
    "\n",
    "4.a Create a variable of type int with the value of 8\n",
    " .b Create an empty list \n",
    " .c Using type(), add the type of 4.a to this list\n",
    " .d Add 0.39 to 4.c\n",
    " .e append the type of 0.39 to the list\n",
    " .f exponentiate to the -10, ie: 4.d^-10,(hint: there might be an artihmetic operator to do so) round it to no \n",
    "    decimal places, and append to list.\n",
    " .g append the type to the list\n",
    " \n",
    " \n",
    "Problem 5: More variable type changes\n",
    "\n",
    "Continue from where you left off in Problem 4.\n",
    "\n",
    "5.a Manually create a dictionary where the values are items in the list from where we left in \n",
    "    problem 4, and the keys should be their index in the list. Print the dictionary.\n",
    " .b Add 300 and coerce it into a string\n",
    " .c append the type to the list\n",
    " .d slice the string up to the 2nd element\n",
    " .e append the type to the list\n",
    " .f use list comprehension to convert this into a new list of integers\n",
    " .g append the type to the list\n",
    " .h append the type of three_setA to the list\n",
    "\"\"\"\n",
    "\n",
    "#Start your assignment here\n",
    "print(\"Assignment 3\")\n",
    "\n"
   ]
  },
  {
   "cell_type": "code",
   "execution_count": 56,
   "id": "367710fd",
   "metadata": {},
   "outputs": [
    {
     "name": "stdout",
     "output_type": "stream",
     "text": [
      "[0, 1, 2, 3, 4, 5, 6, 7, 8, 9]\n"
     ]
    }
   ],
   "source": [
    "#1.a Create a list of integers no fewer than 10 items from 0 to 9.\n",
    "one_a = [0,1,2,3,4,5,6,7,8,9]\n",
    "print(one_a)"
   ]
  },
  {
   "cell_type": "code",
   "execution_count": 8,
   "id": "c0181e6b",
   "metadata": {},
   "outputs": [
    {
     "name": "stdout",
     "output_type": "stream",
     "text": [
      "[0, 1, 2, 3, 7, 5, 6, 7, 8, 9]\n"
     ]
    }
   ],
   "source": [
    "#b Add 3 to the 5th indexed element\n",
    "one_b = one_a\n",
    "one_b[4] += 3\n",
    "print(one_b)"
   ]
  },
  {
   "cell_type": "code",
   "execution_count": 11,
   "id": "85a77935",
   "metadata": {},
   "outputs": [
    {
     "name": "stdout",
     "output_type": "stream",
     "text": [
      "[0.0, 1.0, 2.0, 3.0, 7.0, 5.0, 6.0, 7.0, 8.0, 9.0]\n"
     ]
    }
   ],
   "source": [
    "#c Coerce all elements in the list to floats using list comprehension\n",
    "one_c = [float(i) for i in one_b]\n",
    "print(one_c)"
   ]
  },
  {
   "cell_type": "code",
   "execution_count": 23,
   "id": "7f7693ad",
   "metadata": {},
   "outputs": [
    {
     "name": "stdout",
     "output_type": "stream",
     "text": [
      "{0.0, 1.0, 2.0, 3.0, 5.0, 6.0, 7.0, 8.0, 9.0}\n"
     ]
    }
   ],
   "source": [
    "#d Coerce the list to a set\n",
    "one_d = set(one_c)\n",
    "print(one_d)"
   ]
  },
  {
   "cell_type": "code",
   "execution_count": 24,
   "id": "8cfbdac5",
   "metadata": {},
   "outputs": [
    {
     "name": "stdout",
     "output_type": "stream",
     "text": [
      "{0.0, 1.0, 2.0, 3.0, 5.0, 6.0, 7.0, 8.0, 9.0, 10}\n"
     ]
    }
   ],
   "source": [
    "#e Using a method, append int 10 to the set\n",
    "one_e = one_d\n",
    "one_e.add(10)\n",
    "print(one_e)"
   ]
  },
  {
   "cell_type": "code",
   "execution_count": 27,
   "id": "37a0af0a",
   "metadata": {},
   "outputs": [
    {
     "name": "stdout",
     "output_type": "stream",
     "text": [
      "[0.0, 1.0, 2.0, 3.0, 6.0, 7.0, 8.0, 9.0, 10]\n",
      "{0.0, 1.0, 2.0, 3.0, 6.0, 7.0, 8.0, 9.0, 10}\n"
     ]
    }
   ],
   "source": [
    "#f Using a method, pop an item from the set\n",
    "one_f = list(one_e)\n",
    "one_f.pop(4)\n",
    "print(one_f)\n",
    "one_f = set(one_f)\n",
    "print(one_f)"
   ]
  },
  {
   "cell_type": "code",
   "execution_count": 28,
   "id": "bbe20566",
   "metadata": {},
   "outputs": [
    {
     "name": "stdout",
     "output_type": "stream",
     "text": [
      "9\n"
     ]
    }
   ],
   "source": [
    "#g Using a length counting function, count the number of items in the set\n",
    "one_g = len(one_f)\n",
    "print(one_g)"
   ]
  },
  {
   "cell_type": "code",
   "execution_count": 30,
   "id": "ce98ea30",
   "metadata": {},
   "outputs": [
    {
     "name": "stdout",
     "output_type": "stream",
     "text": [
      "False\n"
     ]
    }
   ],
   "source": [
    "#h Check if the number of items in the set is the same as the number of items in the list\n",
    "one_h = len(one_f) == len(one_c)\n",
    "print(one_h)"
   ]
  },
  {
   "cell_type": "code",
   "execution_count": 31,
   "id": "e227121e",
   "metadata": {},
   "outputs": [
    {
     "name": "stdout",
     "output_type": "stream",
     "text": [
      "[0.0, 1.0, 2.0, 3.0, 6.0, 7.0, 8.0, 9.0, 10, 0, 1, 2, 3, 4, 5, 6, 7, 8, 9]\n"
     ]
    }
   ],
   "source": [
    "#i Coerce the set to a list and use the \"+\" operator combine the list to the list from 1.a\n",
    "one_i = list(one_f) + one_a\n",
    "print(one_i)"
   ]
  },
  {
   "cell_type": "code",
   "execution_count": 32,
   "id": "26d6d75e",
   "metadata": {},
   "outputs": [
    {
     "name": "stdout",
     "output_type": "stream",
     "text": [
      "{0.0, 1.0, 2.0, 3.0, 4, 5, 6.0, 7.0, 8.0, 9.0, 10}\n"
     ]
    }
   ],
   "source": [
    "#j Coerce 1.i to a set\n",
    "one_j = set(one_i)\n",
    "print(one_j)"
   ]
  },
  {
   "cell_type": "code",
   "execution_count": 33,
   "id": "cdcbd0a5",
   "metadata": {},
   "outputs": [
    {
     "name": "stdout",
     "output_type": "stream",
     "text": [
      "11\n"
     ]
    }
   ],
   "source": [
    "#k Count the number of elements in the 1.j\n",
    "one_k = len(one_j)\n",
    "print(one_k)"
   ]
  },
  {
   "cell_type": "code",
   "execution_count": 35,
   "id": "af77fbe1",
   "metadata": {},
   "outputs": [
    {
     "name": "stdout",
     "output_type": "stream",
     "text": [
      "{'two_patient_dictionary_kinoko': {'name': 'Kinoko', 'year': 2021}, 'two_patient_dictionary_dango': {'name': 'Dango', 'year': 2019}, 'two_patient_dictionary_mochi': {'name': 'Mochi', 'year': 2020}}\n"
     ]
    }
   ],
   "source": [
    "'''2.a Combine the three sample dictionaries (given below) into a nested dictionary (nested in programming means joined), named \n",
    "    two_a, ensure the key names are the same as the dictionary names.\n",
    "'''\n",
    "two_a = {\n",
    "\"two_patient_dictionary_kinoko\" : {\n",
    "  \"name\" : \"Kinoko\",\n",
    "  \"year\" : 2021},\n",
    "\"two_patient_dictionary_dango\" : {\n",
    "  \"name\" : \"Dango\",\n",
    "  \"year\" : 2019},\n",
    "\"two_patient_dictionary_mochi\" : {\n",
    "  \"name\" : \"Mochi\",\n",
    "  \"year\" : 2020}\n",
    "}\n",
    "print(two_a)"
   ]
  },
  {
   "cell_type": "code",
   "execution_count": 36,
   "id": "8c628528",
   "metadata": {},
   "outputs": [
    {
     "name": "stdout",
     "output_type": "stream",
     "text": [
      "Dango\n"
     ]
    }
   ],
   "source": [
    "#b Using keys, retrieve the Dango's name from 2.a\n",
    "two_b = two_a['two_patient_dictionary_dango']['name']\n",
    "print(two_b)"
   ]
  },
  {
   "cell_type": "code",
   "execution_count": 38,
   "id": "b10a065e",
   "metadata": {},
   "outputs": [
    {
     "name": "stdout",
     "output_type": "stream",
     "text": [
      "{'two_patient_dictionary_kinoko': {'name': 'Kinoko', 'year': 2021}, 'two_patient_dictionary_dango': {'name': 'Dango', 'year': 2019}, 'two_patient_dictionary_mochi': {'name': 'Mochi', 'year': 2018}}\n"
     ]
    }
   ],
   "source": [
    "#c Using keys, update the value of Mochi's year to 2018. This should not be a variable and should simply update 2.a.\n",
    "two_a['two_patient_dictionary_mochi']['year'] = 2018\n",
    "print(two_a)"
   ]
  },
  {
   "cell_type": "code",
   "execution_count": 39,
   "id": "8187812b",
   "metadata": {},
   "outputs": [
    {
     "name": "stdout",
     "output_type": "stream",
     "text": [
      "{'Kinoko': 2021, 'Dango': 2019, 'Mochi': 2018}\n"
     ]
    }
   ],
   "source": [
    "'''#d Manually create a dictionary that has a single level and contains each patient as the key and the year as the value. \n",
    "Set Mochi's year to 2019.\n",
    "'''\n",
    "two_d = {\"Kinoko\" : 2021, \"Dango\" : 2019, \"Mochi\" : 2018}\n",
    "print(two_d)"
   ]
  },
  {
   "cell_type": "code",
   "execution_count": 40,
   "id": "63d4645d",
   "metadata": {},
   "outputs": [
    {
     "name": "stdout",
     "output_type": "stream",
     "text": [
      "['Kinoko', 'Dango', 'Mochi']\n"
     ]
    }
   ],
   "source": [
    "#e Coerce the keys of 2.d into a list\n",
    "two_e = list(two_d.keys())\n",
    "print(two_e)"
   ]
  },
  {
   "cell_type": "code",
   "execution_count": 41,
   "id": "491e5b6f",
   "metadata": {},
   "outputs": [
    {
     "name": "stdout",
     "output_type": "stream",
     "text": [
      "[2021, 2019, 2018]\n"
     ]
    }
   ],
   "source": [
    "#f Coerce the values of 2.d into a list\n",
    "two_f = list(two_d.values())\n",
    "print(two_f)"
   ]
  },
  {
   "cell_type": "code",
   "execution_count": 42,
   "id": "faea242d",
   "metadata": {},
   "outputs": [
    {
     "name": "stdout",
     "output_type": "stream",
     "text": [
      "{'Kinoko': 2021, 'Dango': 2019, 'Mochi': 2018}\n"
     ]
    }
   ],
   "source": [
    "#g Use the zip function to combine 2.e and 2.f into a dictionary again\n",
    "two_g = dict(zip(two_e,two_f))\n",
    "print(two_g)"
   ]
  },
  {
   "cell_type": "code",
   "execution_count": 44,
   "id": "44fc40f0",
   "metadata": {},
   "outputs": [
    {
     "name": "stdout",
     "output_type": "stream",
     "text": [
      "True\n"
     ]
    }
   ],
   "source": [
    "#3.a Is set E a subset of set A\n",
    "\n",
    "three_setA = {1,2,3,4,5}\n",
    "three_setB = {2,3,4,5,6}\n",
    "three_setC = {3,5,7,9}\n",
    "three_setD = {2,4,6,8}\n",
    "three_setE = {1,2,3,4}\n",
    "three_a = three_setE.issubset(three_setA)\n",
    "print(three_a)\n"
   ]
  },
  {
   "cell_type": "code",
   "execution_count": 45,
   "id": "c3805036",
   "metadata": {},
   "outputs": [
    {
     "name": "stdout",
     "output_type": "stream",
     "text": [
      "True\n"
     ]
    }
   ],
   "source": [
    "#b Is set E a strict subset of set A\n",
    "three_b = three_setE.issubset(three_setA) and three_setE != three_setA\n",
    "print(three_b)"
   ]
  },
  {
   "cell_type": "code",
   "execution_count": 46,
   "id": "a523066b",
   "metadata": {},
   "outputs": [
    {
     "name": "stdout",
     "output_type": "stream",
     "text": [
      "{2, 3, 4, 5}\n"
     ]
    }
   ],
   "source": [
    "#c Create a set that is the intersection of set A and set B\n",
    "three_c = three_setA & three_setB\n",
    "print(three_c)"
   ]
  },
  {
   "cell_type": "code",
   "execution_count": 47,
   "id": "d2935b33",
   "metadata": {},
   "outputs": [
    {
     "name": "stdout",
     "output_type": "stream",
     "text": [
      "{1, 2, 3, 4, 5, 6, 7, 8, 9}\n"
     ]
    }
   ],
   "source": [
    "#d Create a set that is the union of sets C, D and E\n",
    "three_d = three_setC | three_setD | three_setE\n",
    "print(three_d)"
   ]
  },
  {
   "cell_type": "code",
   "execution_count": 50,
   "id": "ed21a46f",
   "metadata": {},
   "outputs": [
    {
     "name": "stdout",
     "output_type": "stream",
     "text": [
      "{1, 2, 3, 4, 5, 6, 7, 8, 9}\n"
     ]
    }
   ],
   "source": [
    "#e add 9 to the set\n",
    "three_e = three_d\n",
    "three_e.add(9)\n",
    "print(three_e)"
   ]
  },
  {
   "cell_type": "code",
   "execution_count": 51,
   "id": "eb0cbf73",
   "metadata": {},
   "outputs": [
    {
     "name": "stdout",
     "output_type": "stream",
     "text": [
      "False\n"
     ]
    }
   ],
   "source": [
    "#f Using == compare this set to the list in one_a\n",
    "three_f = three_e == one_a\n",
    "print(three_f)"
   ]
  },
  {
   "cell_type": "code",
   "execution_count": 58,
   "id": "78c4f48b",
   "metadata": {},
   "outputs": [
    {
     "data": {
      "text/plain": [
       "'\\nthey are not the same for two reasons: one is a set and the other a list.  also one_a has a 0, but three_g does not. \\nif we popped 0 out of one_a then changed it to a set it would be the same\\n'"
      ]
     },
     "execution_count": 58,
     "metadata": {},
     "output_type": "execute_result"
    }
   ],
   "source": [
    "'''\n",
    "g Explain why they are not the same. What would you need to change if you\n",
    "    wanted this to be True?\n",
    "'''\n",
    "'''\n",
    "they are not the same for two reasons: one is a set and the other a list.  also one_a has a 0, but three_g does not. \n",
    "if we popped 0 out of one_a then changed it to a set it would be the same\n",
    "'''"
   ]
  },
  {
   "cell_type": "code",
   "execution_count": 59,
   "id": "c8da6c14",
   "metadata": {},
   "outputs": [
    {
     "name": "stdout",
     "output_type": "stream",
     "text": [
      "8\n"
     ]
    }
   ],
   "source": [
    "'''\n",
    "Problem 4: Changing variable types\n",
    "\n",
    "For each step you will modify a variable, then append the type of the variable\n",
    "to a list. Do not recreate the list variable, it should be a running list of \n",
    "types.\n",
    "\n",
    "4.a Create a variable of type int with the value of 8\n",
    "'''\n",
    "four_a = 8\n",
    "print(four_a)"
   ]
  },
  {
   "cell_type": "code",
   "execution_count": 69,
   "id": "7b399379",
   "metadata": {},
   "outputs": [],
   "source": [
    "#b Create an empty list\n",
    "four_b = []"
   ]
  },
  {
   "cell_type": "code",
   "execution_count": 70,
   "id": "f86ed37b",
   "metadata": {},
   "outputs": [
    {
     "name": "stdout",
     "output_type": "stream",
     "text": [
      "[<class 'int'>]\n"
     ]
    }
   ],
   "source": [
    "#c Using type(), add the type of 4.a to this list\n",
    "four_b.append(type(four_a))\n",
    "print(four_b)"
   ]
  },
  {
   "cell_type": "code",
   "execution_count": 71,
   "id": "e978c196",
   "metadata": {},
   "outputs": [
    {
     "name": "stdout",
     "output_type": "stream",
     "text": [
      "[<class 'int'>, 0.39]\n"
     ]
    }
   ],
   "source": [
    "#d Add 0.39 to 4.c\n",
    "four_d = 0.39\n",
    "four_b.append(four_d)\n",
    "print(four_b)"
   ]
  },
  {
   "cell_type": "code",
   "execution_count": 72,
   "id": "bd1d85d4",
   "metadata": {},
   "outputs": [
    {
     "name": "stdout",
     "output_type": "stream",
     "text": [
      "[<class 'int'>, 0.39, <class 'float'>]\n"
     ]
    }
   ],
   "source": [
    "#e append the type of 0.39 to the list\n",
    "four_b.append(type(four_d))\n",
    "print(four_b)"
   ]
  },
  {
   "cell_type": "code",
   "execution_count": 73,
   "id": "931879a9",
   "metadata": {},
   "outputs": [
    {
     "name": "stdout",
     "output_type": "stream",
     "text": [
      "[<class 'int'>, 0.39, <class 'float'>, 12284]\n"
     ]
    }
   ],
   "source": [
    "'''\n",
    "f exponentiate to the -10, ie: 4.d^-10,(hint: there might be an artihmetic operator to do so) round it to no \n",
    "    decimal places, and append to list.\n",
    "'''\n",
    "four_f = int(round(four_d ** -10, 0))\n",
    "four_b.append(four_f)\n",
    "print(four_b)"
   ]
  },
  {
   "cell_type": "code",
   "execution_count": 74,
   "id": "1b5b963b",
   "metadata": {},
   "outputs": [
    {
     "name": "stdout",
     "output_type": "stream",
     "text": [
      "[<class 'int'>, 0.39, <class 'float'>, 12284, <class 'int'>]\n"
     ]
    }
   ],
   "source": [
    "#g append the type to the list\n",
    "four_b.append(type(four_f))\n",
    "print(four_b)"
   ]
  },
  {
   "cell_type": "code",
   "execution_count": 75,
   "id": "7449df1d",
   "metadata": {},
   "outputs": [
    {
     "name": "stdout",
     "output_type": "stream",
     "text": [
      "{0: <class 'int'>, 1: 0.39, 2: <class 'float'>, 3: 12284, 4: <class 'int'>}\n"
     ]
    }
   ],
   "source": [
    "'''\n",
    "Problem 5: More variable type changes\n",
    "\n",
    "Continue from where you left off in Problem 4.\n",
    "\n",
    "5.a Manually create a dictionary where the values are items in the list from where we left in \n",
    "    problem 4, and the keys should be their index in the list. Print the dictionary.\n",
    "'''\n",
    "five_a = {index: x for index, x in enumerate(four_b)}\n",
    "print(five_a)"
   ]
  },
  {
   "cell_type": "code",
   "execution_count": 78,
   "id": "dfdfd4a3",
   "metadata": {},
   "outputs": [
    {
     "name": "stdout",
     "output_type": "stream",
     "text": [
      "300\n",
      "<class 'str'>\n",
      "[<class 'int'>, 0.39, <class 'float'>, 12284, <class 'int'>, '300']\n"
     ]
    }
   ],
   "source": [
    "#b Add 300 and coerce it into a string\n",
    "five_b = str(300)\n",
    "print(five_b)\n",
    "print(type(five_b))\n",
    "four_b.append(five_b)\n",
    "print(four_b)"
   ]
  },
  {
   "cell_type": "code",
   "execution_count": 79,
   "id": "e3787095",
   "metadata": {},
   "outputs": [
    {
     "name": "stdout",
     "output_type": "stream",
     "text": [
      "[<class 'int'>, 0.39, <class 'float'>, 12284, <class 'int'>, '300', <class 'str'>]\n"
     ]
    }
   ],
   "source": [
    "#c append the type to the list\n",
    "four_b.append(type(five_b))\n",
    "print(four_b)"
   ]
  },
  {
   "cell_type": "code",
   "execution_count": 81,
   "id": "3ca8977f",
   "metadata": {},
   "outputs": [
    {
     "name": "stdout",
     "output_type": "stream",
     "text": [
      "30\n",
      "[<class 'int'>, 0.39, <class 'float'>, 12284, <class 'int'>, '300', <class 'str'>, '30']\n"
     ]
    }
   ],
   "source": [
    "#d slice the string up to the 2nd element --- assuming we are also to append this to the list??\n",
    "five_d = five_b[0:2]\n",
    "print(five_d)\n",
    "four_b.append(five_d)\n",
    "print(four_b)"
   ]
  },
  {
   "cell_type": "code",
   "execution_count": 82,
   "id": "3a677dc4",
   "metadata": {},
   "outputs": [
    {
     "name": "stdout",
     "output_type": "stream",
     "text": [
      "[<class 'int'>, 0.39, <class 'float'>, 12284, <class 'int'>, '300', <class 'str'>, '30', <class 'str'>]\n"
     ]
    }
   ],
   "source": [
    "#e append the type to the list\n",
    "four_b.append(type(five_d))\n",
    "print(four_b)"
   ]
  },
  {
   "cell_type": "code",
   "execution_count": 84,
   "id": "024b29d1",
   "metadata": {},
   "outputs": [
    {
     "name": "stdout",
     "output_type": "stream",
     "text": [
      "[12284, 300, 30]\n"
     ]
    }
   ],
   "source": [
    "#f use list comprehension to convert this into a new list of integers\n",
    "five_f = [int(x) for x in four_b if isinstance(x, (int, float, str)) and str(x).isdigit()]\n",
    "print(five_f)"
   ]
  },
  {
   "cell_type": "code",
   "execution_count": 85,
   "id": "73e21835",
   "metadata": {},
   "outputs": [
    {
     "name": "stdout",
     "output_type": "stream",
     "text": [
      "[<class 'int'>, 0.39, <class 'float'>, 12284, <class 'int'>, '300', <class 'str'>, '30', <class 'str'>, <class 'list'>]\n"
     ]
    }
   ],
   "source": [
    "#g append the type to the list\n",
    "four_b.append(type(five_f))\n",
    "print(four_b)"
   ]
  },
  {
   "cell_type": "code",
   "execution_count": 86,
   "id": "a87d359e",
   "metadata": {},
   "outputs": [
    {
     "name": "stdout",
     "output_type": "stream",
     "text": [
      "[<class 'int'>, 0.39, <class 'float'>, 12284, <class 'int'>, '300', <class 'str'>, '30', <class 'str'>, <class 'list'>, <class 'set'>]\n"
     ]
    }
   ],
   "source": [
    "#h append the type of three_setA to the list\n",
    "four_b.append(type(three_setA))\n",
    "print(four_b)"
   ]
  },
  {
   "cell_type": "code",
   "execution_count": null,
   "id": "be58a411",
   "metadata": {},
   "outputs": [],
   "source": []
  }
 ],
 "metadata": {
  "kernelspec": {
   "display_name": "Python 3 (ipykernel)",
   "language": "python",
   "name": "python3"
  },
  "language_info": {
   "codemirror_mode": {
    "name": "ipython",
    "version": 3
   },
   "file_extension": ".py",
   "mimetype": "text/x-python",
   "name": "python",
   "nbconvert_exporter": "python",
   "pygments_lexer": "ipython3",
   "version": "3.11.3"
  }
 },
 "nbformat": 4,
 "nbformat_minor": 5
}
