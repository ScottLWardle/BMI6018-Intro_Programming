{
 "cells": [
  {
   "cell_type": "code",
   "execution_count": 1,
   "id": "2e0b75d9",
   "metadata": {},
   "outputs": [
    {
     "data": {
      "text/plain": [
       "2"
      ]
     },
     "execution_count": 1,
     "metadata": {},
     "output_type": "execute_result"
    }
   ],
   "source": [
    "#Booleans Q1\n",
    "#Boolean True + boolean True - boolean False = ?\n",
    "True + True - False"
   ]
  },
  {
   "cell_type": "code",
   "execution_count": 2,
   "id": "6bdb89f8",
   "metadata": {},
   "outputs": [
    {
     "name": "stdout",
     "output_type": "stream",
     "text": [
      "True\n",
      "True\n",
      "1\n"
     ]
    }
   ],
   "source": [
    "#Booleans Q2\n",
    "logical_tracker = True\n",
    "print(logical_tracker)\n",
    "logical_tracker = logical_tracker & logical_tracker\n",
    "print(logical_tracker)\n",
    "logical_tracker = logical_tracker | (logical_tracker - logical_tracker)\n",
    "print(logical_tracker)\n"
   ]
  },
  {
   "cell_type": "code",
   "execution_count": 6,
   "id": "35f1a668",
   "metadata": {},
   "outputs": [
    {
     "data": {
      "text/plain": [
       "' '"
      ]
     },
     "execution_count": 6,
     "metadata": {},
     "output_type": "execute_result"
    }
   ],
   "source": [
    "#Strings Q5\n",
    "string = \"E. Coli\"\n",
    "string[2]"
   ]
  },
  {
   "cell_type": "code",
   "execution_count": 7,
   "id": "78d5055e",
   "metadata": {},
   "outputs": [
    {
     "ename": "TypeError",
     "evalue": "'str' object does not support item assignment",
     "output_type": "error",
     "traceback": [
      "\u001b[1;31m---------------------------------------------------------------------------\u001b[0m",
      "\u001b[1;31mTypeError\u001b[0m                                 Traceback (most recent call last)",
      "Cell \u001b[1;32mIn[7], line 5\u001b[0m\n\u001b[0;32m      3\u001b[0m string \u001b[38;5;241m=\u001b[39m \u001b[38;5;124m\"\u001b[39m\u001b[38;5;124mI Bove python\u001b[39m\u001b[38;5;124m\"\u001b[39m\n\u001b[0;32m      4\u001b[0m \u001b[38;5;66;03m#No worries though. I'll just fix that.\u001b[39;00m\n\u001b[1;32m----> 5\u001b[0m string[\u001b[38;5;241m2\u001b[39m]\u001b[38;5;241m=\u001b[39m\u001b[38;5;124m\"\u001b[39m\u001b[38;5;124mL\u001b[39m\u001b[38;5;124m\"\u001b[39m\n\u001b[0;32m      6\u001b[0m \u001b[38;5;28mprint\u001b[39m(string)\n",
      "\u001b[1;31mTypeError\u001b[0m: 'str' object does not support item assignment"
     ]
    }
   ],
   "source": [
    "#Strings Q6\n",
    "#Oh no! My string has a typo!\n",
    "string = \"I Bove python\"\n",
    "#No worries though. I'll just fix that.\n",
    "string[2]=\"L\"\n",
    "print(string)"
   ]
  },
  {
   "cell_type": "code",
   "execution_count": 9,
   "id": "51ed04df",
   "metadata": {},
   "outputs": [
    {
     "name": "stdout",
     "output_type": "stream",
     "text": [
      "<class 'int'>\n"
     ]
    }
   ],
   "source": [
    "#Jack Medications Q7\n",
    "Medication = 5\n",
    "print(type(Medication))"
   ]
  },
  {
   "cell_type": "code",
   "execution_count": 10,
   "id": "9abb09e6",
   "metadata": {},
   "outputs": [
    {
     "name": "stdout",
     "output_type": "stream",
     "text": [
      "24.034609838166958\n"
     ]
    }
   ],
   "source": [
    "#Susan BMI Q8\n",
    "susanweight = 60\n",
    "susanheight = 1.58\n",
    "susanBMI = susanweight / (susanheight ** 2)\n",
    "print(susanBMI)"
   ]
  }
 ],
 "metadata": {
  "kernelspec": {
   "display_name": "Python 3 (ipykernel)",
   "language": "python",
   "name": "python3"
  },
  "language_info": {
   "codemirror_mode": {
    "name": "ipython",
    "version": 3
   },
   "file_extension": ".py",
   "mimetype": "text/x-python",
   "name": "python",
   "nbconvert_exporter": "python",
   "pygments_lexer": "ipython3",
   "version": "3.11.3"
  }
 },
 "nbformat": 4,
 "nbformat_minor": 5
}
