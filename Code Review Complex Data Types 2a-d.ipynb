{
 "cells": [
  {
   "cell_type": "code",
   "execution_count": 1,
   "id": "f50d6a93-494d-455f-912b-9d052797e9c1",
   "metadata": {},
   "outputs": [
    {
     "name": "stdout",
     "output_type": "stream",
     "text": [
      "{'two_patient_dictionary_kinoko': {'name': 'Kinoko', 'year': 2021}, 'two_patient_dictionary_dango': {'name': 'Dango', 'year': 2019}, 'two_patient_dictionary_mochi': {'name': 'Mochi', 'year': 2020}}\n"
     ]
    }
   ],
   "source": [
    "'''2.a Combine the three sample dictionaries (given below) into a nested dictionary (nested in programming means joined), named \n",
    "    two_a, ensure the key names are the same as the dictionary names.\n",
    "'''\n",
    "two_a = {\n",
    "\"two_patient_dictionary_kinoko\" : {\n",
    "  \"name\" : \"Kinoko\",\n",
    "  \"year\" : 2021},\n",
    "\"two_patient_dictionary_dango\" : {\n",
    "  \"name\" : \"Dango\",\n",
    "  \"year\" : 2019},\n",
    "\"two_patient_dictionary_mochi\" : {\n",
    "  \"name\" : \"Mochi\",\n",
    "  \"year\" : 2020}\n",
    "}\n",
    "print(two_a)"
   ]
  },
  {
   "cell_type": "code",
   "execution_count": 2,
   "id": "b623c4c4-8d07-4028-bc99-951bc673f6ab",
   "metadata": {},
   "outputs": [
    {
     "name": "stdout",
     "output_type": "stream",
     "text": [
      "Dango\n"
     ]
    }
   ],
   "source": [
    "#b Using keys, retrieve the Dango's name from 2.a\n",
    "two_b = two_a['two_patient_dictionary_dango']['name']\n",
    "print(two_b)"
   ]
  },
  {
   "cell_type": "code",
   "execution_count": 3,
   "id": "e286f08f-9731-4ac2-ad02-5370fabff794",
   "metadata": {},
   "outputs": [
    {
     "name": "stdout",
     "output_type": "stream",
     "text": [
      "{'two_patient_dictionary_kinoko': {'name': 'Kinoko', 'year': 2021}, 'two_patient_dictionary_dango': {'name': 'Dango', 'year': 2019}, 'two_patient_dictionary_mochi': {'name': 'Mochi', 'year': 2018}}\n"
     ]
    }
   ],
   "source": [
    "#c Using keys, update the value of Mochi's year to 2018. This should not be a variable and should simply update 2.a.\n",
    "two_a['two_patient_dictionary_mochi']['year'] = 2018\n",
    "print(two_a)"
   ]
  },
  {
   "cell_type": "code",
   "execution_count": 4,
   "id": "99e216a9-4331-4f84-a68e-8e4315415d91",
   "metadata": {},
   "outputs": [
    {
     "name": "stdout",
     "output_type": "stream",
     "text": [
      "{'Kinoko': 2021, 'Dango': 2019, 'Mochi': 2018}\n"
     ]
    }
   ],
   "source": [
    "'''#d Manually create a dictionary that has a single level and contains each patient as the key and the year as the value. \n",
    "Set Mochi's year to 2019.\n",
    "'''\n",
    "two_d = {\"Kinoko\" : 2021, \"Dango\" : 2019, \"Mochi\" : 2018}\n",
    "print(two_d)"
   ]
  },
  {
   "cell_type": "code",
   "execution_count": null,
   "id": "0c4ae2b1-19fb-4f1f-a5c4-bfce60559316",
   "metadata": {},
   "outputs": [],
   "source": []
  }
 ],
 "metadata": {
  "kernelspec": {
   "display_name": "intropython",
   "language": "python",
   "name": "intropython"
  },
  "language_info": {
   "codemirror_mode": {
    "name": "ipython",
    "version": 3
   },
   "file_extension": ".py",
   "mimetype": "text/x-python",
   "name": "python",
   "nbconvert_exporter": "python",
   "pygments_lexer": "ipython3",
   "version": "3.12.7"
  }
 },
 "nbformat": 4,
 "nbformat_minor": 5
}
